{
  "nbformat": 4,
  "nbformat_minor": 0,
  "metadata": {
    "kernelspec": {
      "display_name": "Python 3",
      "language": "python",
      "name": "python3"
    },
    "language_info": {
      "codemirror_mode": {
        "name": "ipython",
        "version": 3
      },
      "file_extension": ".py",
      "mimetype": "text/x-python",
      "name": "python",
      "nbconvert_exporter": "python",
      "pygments_lexer": "ipython3",
      "version": "3.7.6"
    },
    "colab": {
      "name": "Practice-Markdown-Collab.ipynb",
      "provenance": [],
      "include_colab_link": true
    }
  },
  "cells": [
    {
      "cell_type": "markdown",
      "metadata": {
        "id": "view-in-github",
        "colab_type": "text"
      },
      "source": [
        "<a href=\"https://colab.research.google.com/github/ynnadlob/technical-discussion/blob/main/Practice_Markdown_Collab.ipynb\" target=\"_parent\"><img src=\"https://colab.research.google.com/assets/colab-badge.svg\" alt=\"Open In Colab\"/></a>"
      ]
    },
    {
      "cell_type": "markdown",
      "metadata": {
        "id": "uMci-0anLAHc"
      },
      "source": [
        "## Practice Markdown"
      ]
    },
    {
      "cell_type": "markdown",
      "metadata": {
        "id": "T-XSxlXILAHg"
      },
      "source": [
        "This notebook lets you experiment with producing repeatable technical documentation.  Use this notebook to do the following actions:\n",
        "\n",
        "* Create a code cell and print a Python Hello World statement:  `print(\"hello world\")`\n",
        "* Create a Markdown Cell and add a Title using `#` and then a statement using plain text.  You can looks at the source code for this cell to get an idea of how to use Markdown.\n",
        "* Take some ideas from the [Master Markdown Github Guide](https://guides.github.com/features/mastering-markdown/) and implement them here.\n",
        "* Download this notebook as a `.ipynb` file and check into a Github Project.  You can [see an example here](https://github.com/noahgift/duke-coursera-ccf-lab1/blob/main/Practice-Markdown.ipynb).\n",
        "* Open your notebook in Google Colab and save it into the same Github Project.  You can [see an example here](https://github.com/noahgift/duke-coursera-ccf-lab1/blob/main/Practice_Markdown_with_colab.ipynb).\n"
      ]
    },
    {
      "cell_type": "code",
      "metadata": {
        "id": "mu_tlhPLLAHh",
        "outputId": "ce55fae6-6bbf-4c2d-fdae-50e3e25233cf"
      },
      "source": [
        "print(\"hello world\")"
      ],
      "execution_count": null,
      "outputs": [
        {
          "name": "stdout",
          "output_type": "stream",
          "text": [
            "hello world\n"
          ]
        }
      ]
    },
    {
      "cell_type": "markdown",
      "metadata": {
        "id": "y3ZhMzuFLAHj"
      },
      "source": [
        "# This is a Big Header"
      ]
    },
    {
      "cell_type": "markdown",
      "metadata": {
        "id": "lgz0InG-LAHj"
      },
      "source": [
        "## Ideas from Master Markdown Github Guide\n",
        "\n",
        "### This is a table\n",
        "\n",
        "First Header | Second Header\n",
        "- | -\n",
        "Content from cell 1 | Content from cell 2\n",
        "Content in the first column | Content in the second column\n",
        "\n",
        "This is **bold**\n",
        "this is _italic_\n",
        "\n",
        "This is a link to [Coursera](https://www.coursera.org)\n",
        "\n",
        "This is an image\n",
        "\n",
        "![Coursera Logo](https://upload.wikimedia.org/wikipedia/commons/9/97/Coursera-Logo_600x600.svg)"
      ]
    },
    {
      "cell_type": "code",
      "metadata": {
        "id": "bSAJQe_CLAHk"
      },
      "source": [
        ""
      ],
      "execution_count": null,
      "outputs": []
    }
  ]
}